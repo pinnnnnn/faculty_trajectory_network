{
 "cells": [
  {
   "cell_type": "code",
   "execution_count": 1,
   "metadata": {
    "collapsed": true
   },
   "outputs": [],
   "source": [
    "#imports\n",
    "import networkx as nx\n",
    "import random\n",
    "import copy\n",
    "import cPickle as cpkl"
   ]
  },
  {
   "cell_type": "code",
   "execution_count": 2,
   "metadata": {
    "collapsed": true
   },
   "outputs": [],
   "source": [
    "#helper functions\n",
    "\n",
    "def loadIn(gmlName):\n",
    "    gmlFile = open(gmlName,\"rb\")\n",
    "    diGraph = nx.read_gml(gmlFile)\n",
    "    return diGraph"
   ]
  },
  {
   "cell_type": "code",
   "execution_count": 3,
   "metadata": {
    "collapsed": true
   },
   "outputs": [],
   "source": [
    "def numDownArrows(seq,graph):\n",
    "    #big-Oh: n**2\n",
    "    downArrowCounter = 0\n",
    "    counter = 0\n",
    "    for node in seq:\n",
    "        for nextNode in seq[counter+1:]:\n",
    "            if (graph.has_edge(node,nextNode)):\n",
    "                downArrowCounter += graph.edge[node][nextNode][\"weight\"]\n",
    "        counter += 1\n",
    "    return downArrowCounter"
   ]
  },
  {
   "cell_type": "code",
   "execution_count": 4,
   "metadata": {
    "collapsed": true
   },
   "outputs": [],
   "source": [
    "def numUpArrows(seq,graph):\n",
    "    #big-Oh: n**2\n",
    "    upArrowCounter = 0\n",
    "    #however, now we are moving backwards\n",
    "    newSeq = copy.copy(seq)\n",
    "    newSeq.reverse()\n",
    "    counter = 0\n",
    "    for node in newSeq: #move down\n",
    "        for prevNode in newSeq[counter+1:]:\n",
    "            if (graph.has_edge(node,prevNode)):\n",
    "                upArrowCounter += graph.edge[node][prevNode][\"weight\"]\n",
    "        counter += 1\n",
    "    return upArrowCounter"
   ]
  },
  {
   "cell_type": "code",
   "execution_count": 5,
   "metadata": {
    "collapsed": true
   },
   "outputs": [],
   "source": [
    "def calculateSPi(seq,graph): #helper for calculating S(\\pi)\n",
    "    downArrows = numDownArrows(seq,graph)\n",
    "    upArrows = numUpArrows(seq,graph)\n",
    "    return (downArrows,upArrows)"
   ]
  },
  {
   "cell_type": "code",
   "execution_count": 6,
   "metadata": {
    "collapsed": true
   },
   "outputs": [],
   "source": [
    "def swap(a,i,j): #helper for swapping items\n",
    "    (a[i],a[j]) = (a[j],a[i])"
   ]
  },
  {
   "cell_type": "code",
   "execution_count": 7,
   "metadata": {
    "collapsed": true
   },
   "outputs": [],
   "source": [
    "def maxPermutations(graph,buff): #finds permutations that maximize S(pi)\n",
    "    #this function is a little long\n",
    "    nodeSeq = graph.nodes() #only need number\n",
    "    edgeList = graph.edges(data=\"True\") #need weight\n",
    "    random.shuffle(nodeSeq) #start off with a new nodeSeq\n",
    "    maxSeqTuples = [calculateSPi(nodeSeq,graph)]\n",
    "    maxSeqVal = maxSeqTuples[0][0] - maxSeqTuples[0][1] #down-up\n",
    "    maxSeqList = [copy.deepcopy(nodeSeq)] #prevents aliasing\n",
    "    counter = 0\n",
    "    while (counter < buff):\n",
    "        firstInd = random.randint(0,len(nodeSeq)-1) #or do we just care about adjacent indices?\n",
    "        secondInd = random.randint(0,len(nodeSeq)-1)\n",
    "        if (firstInd == secondInd): pass\n",
    "        else:\n",
    "            swap(nodeSeq,firstInd,secondInd)\n",
    "            tempSeqTuple = calculateSPi(nodeSeq,graph)\n",
    "            tempSeqVal = tempSeqTuple[0]-tempSeqTuple[1] #down-up\n",
    "            if (tempSeqVal > maxSeqVal): #found new maximization!\n",
    "                maxSeqTuples = [tempSeqTuple]\n",
    "                maxSeqVal = tempSeqVal\n",
    "                maxSeqList = [copy.deepcopy(nodeSeq)]\n",
    "                counter = 0 #reset for if we get non-change\n",
    "            elif (tempSeqVal == maxSeqVal): #add on\n",
    "                maxSeqTuples.append(tempSeqTuple)\n",
    "                maxSeqList.append(copy.deepcopy(nodeSeq))\n",
    "                counter += 1\n",
    "            else: #got something less than our value\n",
    "                counter += 1\n",
    "                swap(nodeSeq,secondInd,firstInd) #backtrack swap for MCMC\n",
    "    return (maxSeqList,maxSeqTuples,maxSeqVal)"
   ]
  },
  {
   "cell_type": "code",
   "execution_count": 8,
   "metadata": {
    "collapsed": true
   },
   "outputs": [],
   "source": [
    "###Calculate the consensus ranking by taking the average\n",
    "def producePrestigeHierarchy(seqList): #takes list of same-length sequences\n",
    "    prestigeHierarchy = [0 for i in xrange(len(seqList[0]))] #length of one sequence\n",
    "    for ind in xrange(len(prestigeHierarchy)):\n",
    "        avgPrestige = 0\n",
    "        for seq in seqList:\n",
    "            avgPrestige += seq.index(ind) + 1 #add 1 to normalize starting at 1\n",
    "        avgPrestige = float(avgPrestige)/len(seqList)\n",
    "        prestigeHierarchy[ind] = avgPrestige\n",
    "    return prestigeHierarchy"
   ]
  },
  {
   "cell_type": "code",
   "execution_count": 9,
   "metadata": {
    "collapsed": true
   },
   "outputs": [],
   "source": [
    "def trialRun(graph,buff):\n",
    "    permutationTest =  maxPermutations(graph,buff)\n",
    "    trialPrestigeHierarchy = producePrestigeHierarchy(permutationTest[0])\n",
    "    return trialPrestigeHierarchy"
   ]
  },
  {
   "cell_type": "code",
   "execution_count": 10,
   "metadata": {
    "collapsed": true
   },
   "outputs": [],
   "source": [
    "def MCMC(gmlName,numTrials,buff):\n",
    "    trialCounter = 0\n",
    "    graph = loadIn(gmlName)\n",
    "    prestigeDict = {}\n",
    "    institutionDictionary = nx.get_node_attributes(graph,\"institution\")\n",
    "    institutionList = []\n",
    "    for nodeInd in sorted(institutionDictionary):\n",
    "        institutionList.append(institutionDictionary[nodeInd]) #gives ordering\n",
    "        #from least index to greatest\n",
    "    for institutionName in institutionList:\n",
    "        prestigeDict[institutionName] = []\n",
    "    for trial in xrange(numTrials):\n",
    "        print \"We are on trial\", trialCounter\n",
    "        newPrestigeHierarchy = trialRun(graph,buff)\n",
    "        for prestigeInd in xrange(len(newPrestigeHierarchy)):\n",
    "            assocInstitutionName = institutionList[prestigeInd]\n",
    "            prestigeDict[assocInstitutionName].append(\n",
    "                        newPrestigeHierarchy[prestigeInd])\n",
    "        trialCounter += 1\n",
    "    prestigeFile = open(\"prestigeDict.pkl\",\"wb\")\n",
    "    cpkl.dump(prestigeDict,prestigeFile)"
   ]
  },
  {
   "cell_type": "code",
   "execution_count": null,
   "metadata": {
    "collapsed": false
   },
   "outputs": [
    {
     "name": "stdout",
     "output_type": "stream",
     "text": [
      "We are on trial 0\n"
     ]
    }
   ],
   "source": [
    "MCMC(\"trajectory_net.gml\",10000,1000)"
   ]
  },
  {
   "cell_type": "code",
   "execution_count": null,
   "metadata": {
    "collapsed": true
   },
   "outputs": [],
   "source": []
  }
 ],
 "metadata": {
  "kernelspec": {
   "display_name": "Python 2",
   "language": "python",
   "name": "python2"
  },
  "language_info": {
   "codemirror_mode": {
    "name": "ipython",
    "version": 2
   },
   "file_extension": ".py",
   "mimetype": "text/x-python",
   "name": "python",
   "nbconvert_exporter": "python",
   "pygments_lexer": "ipython2",
   "version": "2.7.11"
  }
 },
 "nbformat": 4,
 "nbformat_minor": 0
}
